{
 "cells": [
  {
   "cell_type": "markdown",
   "id": "33d3e412",
   "metadata": {},
   "source": [
    "# Append two list in a Python\n"
   ]
  },
  {
   "cell_type": "code",
   "execution_count": 11,
   "id": "7776e3f1",
   "metadata": {},
   "outputs": [
    {
     "name": "stdout",
     "output_type": "stream",
     "text": [
      "3\n",
      "['Manoj Malepati', 'Divya Malepati', 'Dinesh Ghattamaneni']\n"
     ]
    }
   ],
   "source": [
    "First_Name = ['Manoj ', 'Divya ','Dinesh ']\n",
    "Last_Name = ['Malepati', 'Malepati','Ghattamaneni']\n",
    "Full_Name=[]\n",
    "print(len(first_Name))\n",
    "for i in range(len(First_Name)):\n",
    "    k=First_Name[i]+Last_Name[i]\n",
    "    Full_Name.append(k)\n",
    "    \n",
    "print(Full_Name)"
   ]
  },
  {
   "cell_type": "code",
   "execution_count": 1,
   "id": "ec8d1b39",
   "metadata": {},
   "outputs": [
    {
     "name": "stdout",
     "output_type": "stream",
     "text": [
      "[1, 2, 3, 4, 5, 6]\n"
     ]
    }
   ],
   "source": [
    "#Another way of appending the list \n",
    "list1 = [1, 2, 3]\n",
    "list2 = [4, 5, 6]\n",
    "\n",
    "for item in list2:\n",
    "    list1.append(item)\n",
    "\n",
    "print(list1)"
   ]
  },
  {
   "cell_type": "code",
   "execution_count": null,
   "id": "ace5c61e",
   "metadata": {},
   "outputs": [],
   "source": []
  }
 ],
 "metadata": {
  "kernelspec": {
   "display_name": "Python 3 (ipykernel)",
   "language": "python",
   "name": "python3"
  },
  "language_info": {
   "codemirror_mode": {
    "name": "ipython",
    "version": 3
   },
   "file_extension": ".py",
   "mimetype": "text/x-python",
   "name": "python",
   "nbconvert_exporter": "python",
   "pygments_lexer": "ipython3",
   "version": "3.10.9"
  }
 },
 "nbformat": 4,
 "nbformat_minor": 5
}
